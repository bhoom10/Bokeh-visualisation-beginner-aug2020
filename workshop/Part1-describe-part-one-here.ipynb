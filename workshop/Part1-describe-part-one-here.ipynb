{
 "cells": [
  {
   "cell_type": "markdown",
   "metadata": {},
   "source": [
    "# An introduction to  Interactive Data Visualization with Bokeh\n",
    "\n",
    "## What will we cover?\n",
    "0. Exercise 0 - Setup test\n",
    "1. What is Bokeh?\n",
    "2. Bokeh demo\n",
    "3. Bokeh basics and steps\n",
    "4. Glyphs in Bokeh\n",
    "5. Line graphs and Bar graphs\n",
    "6. Importing data into graphs\n",
    "7. Transformations in Bokeh\n",
    "8. Interactions\n",
    "9. Linked interactions\n",
    "10. Exporting visualizations and Bokeh applications"
   ]
  },
  {
   "cell_type": "markdown",
   "metadata": {},
   "source": [
    "## Exercise 0 - Setup test\n",
    "### Setup-test, run the next cell. Hopefully you should see output that looks something like this:\n",
    "\n",
    "    IPython - 7.17.0\n",
    "    Pandas - 1.1.0\n",
    "    Bokeh - 2.1.1\n",
    "    \n",
    "If this isn't working for you, see the `README.md` in the parent directory.\n",
    "And yes, as Python programmers, we start our numbering at 0"
   ]
  },
  {
   "cell_type": "code",
   "execution_count": 1,
   "metadata": {},
   "outputs": [
    {
     "name": "stdout",
     "output_type": "stream",
     "text": [
      "IPython - 7.17.0\n",
      "Pandas - 1.1.0\n",
      "Bokeh - 2.1.1\n"
     ]
    }
   ],
   "source": [
    "from IPython import __version__ as ipython_version\n",
    "from pandas import __version__ as pandas_version\n",
    "from bokeh import __version__ as bokeh_version\n",
    "print(\"IPython - %s\" % ipython_version)\n",
    "print(\"Pandas - %s\" % pandas_version)\n",
    "print(\"Bokeh - %s\" % bokeh_version)"
   ]
  },
  {
   "cell_type": "markdown",
   "metadata": {},
   "source": [
    "## 1. What is Bokeh?\n",
    "\n",
    "Most of us have seen and loved photographs where lots of bright colors in the front of the picture are combined with some blurred background. That is called ‘bokeh’ (sometimes spelt as ‘boke’) — a Japanese word meaning ‘blur’. It is quite popular in photography as a way to make a picture more visiually appealing. \n",
    "\n",
    "[![Boke](bokeh.jpg)](https://www.sljfaq.org/afaq/boke.html)\n",
    "\n",
    "*Boke: A deliberately out-of-focus photograph* (Photo credit: Stig Nygaard / [CC licence](https://creativecommons.org/licenses/by/2.0/deed.en_GB))\n",
    "\n",
    "And it has also become a great name for a Python interactive visualization library!\n",
    "\n",
    "![Bokeh logo](bokeh_logo.PNG)\n",
    "\n",
    "[Bokeh](https://bokeh.org/) prides itself on being a library for interactive data visualization. \n",
    "Unlike popular counterparts in the Python visualization space, like Matplotlib and Seaborn, Bokeh renders its graphics using HTML and JavaScript. This makes it a great candidate for building web-based dashboards and applications. However, it’s an equally powerful tool for exploring and understanding your data or creating beautiful custom charts for a project or report."
   ]
  },
  {
   "cell_type": "code",
   "execution_count": null,
   "metadata": {},
   "outputs": [],
   "source": [
    "# Standard imports \n",
    "\n",
    "from bokeh.io import output_notebook, show\n",
    "output_notebook()"
   ]
  },
  {
   "cell_type": "markdown",
   "metadata": {},
   "source": [
    "## 2. Bokeh sample demo"
   ]
  },
  {
   "cell_type": "code",
   "execution_count": null,
   "metadata": {},
   "outputs": [],
   "source": []
  },
  {
   "cell_type": "markdown",
   "metadata": {},
   "source": [
    "## 3. Bokeh basics and steps\n",
    "There are 3 basic steps while creating Bokeh visualizations:\n",
    "1. `figure()` function to create a blank figure\n",
    "2. call a glyph\n",
    "3. `show()` or `save()` function "
   ]
  },
  {
   "cell_type": "markdown",
   "metadata": {},
   "source": [
    "### Create a blank figure\n",
    "There are 2 available output options:\n",
    "1. `output_notebook()` : creates an inline visualization in Jupyter notebook\n",
    "2. `output_file('filename.html')` : write the visualization to an HTML file\n",
    "\n",
    "Here, we look at the first option and elaborate on the second option in Section 10.\n",
    "\n",
    "Read more about the output options [here](https://bokeh.pydata.org/en/latest/docs/user_guide/concepts.html#output-methods)"
   ]
  },
  {
   "cell_type": "code",
   "execution_count": 8,
   "metadata": {},
   "outputs": [
    {
     "name": "stderr",
     "output_type": "stream",
     "text": [
      "WARNING:bokeh.core.validation.check:W-1000 (MISSING_RENDERERS): Plot has no renderers: Figure(id='1472', ...)\n"
     ]
    },
    {
     "data": {
      "text/html": [
       "\n",
       "\n",
       "\n",
       "\n",
       "\n",
       "\n",
       "  <div class=\"bk-root\" id=\"69cfd9bf-e8d4-4fc0-a309-8278f18009b3\" data-root-id=\"1472\"></div>\n"
      ]
     },
     "metadata": {},
     "output_type": "display_data"
    },
    {
     "data": {
      "application/javascript": [
       "(function(root) {\n",
       "  function embed_document(root) {\n",
       "    \n",
       "  var docs_json = {\"49d66c08-0ba7-4937-9b11-a00b983cde3d\":{\"roots\":{\"references\":[{\"attributes\":{\"below\":[{\"id\":\"1481\"}],\"center\":[{\"id\":\"1484\"},{\"id\":\"1488\"}],\"left\":[{\"id\":\"1485\"}],\"plot_height\":400,\"plot_width\":800,\"title\":{\"id\":\"1538\"},\"toolbar\":{\"id\":\"1496\"},\"x_range\":{\"id\":\"1473\"},\"x_scale\":{\"id\":\"1477\"},\"y_range\":{\"id\":\"1475\"},\"y_scale\":{\"id\":\"1479\"}},\"id\":\"1472\",\"subtype\":\"Figure\",\"type\":\"Plot\"},{\"attributes\":{},\"id\":\"1493\",\"type\":\"ResetTool\"},{\"attributes\":{},\"id\":\"1543\",\"type\":\"BasicTickFormatter\"},{\"attributes\":{\"axis\":{\"id\":\"1485\"},\"dimension\":1,\"ticker\":null},\"id\":\"1488\",\"type\":\"Grid\"},{\"attributes\":{},\"id\":\"1473\",\"type\":\"DataRange1d\"},{\"attributes\":{\"active_drag\":\"auto\",\"active_inspect\":\"auto\",\"active_multi\":null,\"active_scroll\":\"auto\",\"active_tap\":\"auto\",\"tools\":[{\"id\":\"1489\"},{\"id\":\"1490\"},{\"id\":\"1491\"},{\"id\":\"1492\"},{\"id\":\"1493\"},{\"id\":\"1494\"}]},\"id\":\"1496\",\"type\":\"Toolbar\"},{\"attributes\":{},\"id\":\"1489\",\"type\":\"PanTool\"},{\"attributes\":{\"bottom_units\":\"screen\",\"fill_alpha\":0.5,\"fill_color\":\"lightgrey\",\"left_units\":\"screen\",\"level\":\"overlay\",\"line_alpha\":1.0,\"line_color\":\"black\",\"line_dash\":[4,4],\"line_width\":2,\"right_units\":\"screen\",\"top_units\":\"screen\"},\"id\":\"1495\",\"type\":\"BoxAnnotation\"},{\"attributes\":{\"axis\":{\"id\":\"1481\"},\"ticker\":null},\"id\":\"1484\",\"type\":\"Grid\"},{\"attributes\":{},\"id\":\"1475\",\"type\":\"DataRange1d\"},{\"attributes\":{\"formatter\":{\"id\":\"1541\"},\"ticker\":{\"id\":\"1482\"}},\"id\":\"1481\",\"type\":\"LinearAxis\"},{\"attributes\":{\"text\":\"\"},\"id\":\"1538\",\"type\":\"Title\"},{\"attributes\":{},\"id\":\"1482\",\"type\":\"BasicTicker\"},{\"attributes\":{},\"id\":\"1492\",\"type\":\"SaveTool\"},{\"attributes\":{},\"id\":\"1490\",\"type\":\"WheelZoomTool\"},{\"attributes\":{\"formatter\":{\"id\":\"1543\"},\"ticker\":{\"id\":\"1486\"}},\"id\":\"1485\",\"type\":\"LinearAxis\"},{\"attributes\":{},\"id\":\"1479\",\"type\":\"LinearScale\"},{\"attributes\":{\"overlay\":{\"id\":\"1495\"}},\"id\":\"1491\",\"type\":\"BoxZoomTool\"},{\"attributes\":{},\"id\":\"1541\",\"type\":\"BasicTickFormatter\"},{\"attributes\":{},\"id\":\"1494\",\"type\":\"HelpTool\"},{\"attributes\":{},\"id\":\"1477\",\"type\":\"LinearScale\"},{\"attributes\":{},\"id\":\"1486\",\"type\":\"BasicTicker\"}],\"root_ids\":[\"1472\"]},\"title\":\"Bokeh Application\",\"version\":\"2.1.1\"}};\n",
       "  var render_items = [{\"docid\":\"49d66c08-0ba7-4937-9b11-a00b983cde3d\",\"root_ids\":[\"1472\"],\"roots\":{\"1472\":\"69cfd9bf-e8d4-4fc0-a309-8278f18009b3\"}}];\n",
       "  root.Bokeh.embed.embed_items_notebook(docs_json, render_items);\n",
       "\n",
       "  }\n",
       "  if (root.Bokeh !== undefined) {\n",
       "    embed_document(root);\n",
       "  } else {\n",
       "    var attempts = 0;\n",
       "    var timer = setInterval(function(root) {\n",
       "      if (root.Bokeh !== undefined) {\n",
       "        clearInterval(timer);\n",
       "        embed_document(root);\n",
       "      } else {\n",
       "        attempts++;\n",
       "        if (attempts > 100) {\n",
       "          clearInterval(timer);\n",
       "          console.log(\"Bokeh: ERROR: Unable to run BokehJS code because BokehJS library is missing\");\n",
       "        }\n",
       "      }\n",
       "    }, 10, root)\n",
       "  }\n",
       "})(window);"
      ],
      "application/vnd.bokehjs_exec.v0+json": ""
     },
     "metadata": {
      "application/vnd.bokehjs_exec.v0+json": {
       "id": "1472"
      }
     },
     "output_type": "display_data"
    }
   ],
   "source": [
    "## Create an empty figure\n",
    "# Set up a generic figure() object\n",
    "fig = figure(plot_width=800, plot_height=400)\n",
    "\n",
    "# See what it looks like\n",
    "show(fig)\n"
   ]
  },
  {
   "cell_type": "markdown",
   "metadata": {},
   "source": [
    "## 4. Glyphs in Bokeh"
   ]
  },
  {
   "cell_type": "markdown",
   "metadata": {},
   "source": [
    "An empty figure isn’t all that exciting, so let’s look at glyphs: the building blocks of Bokeh visualizations. A glyph is a vectorized graphical shape or marker that is used to represent your data, like a circle or square\n",
    "\n",
    "Read more about glyphs [here](https://bokeh.pydata.org/en/latest/docs/user_guide/plotting.html)"
   ]
  },
  {
   "cell_type": "markdown",
   "metadata": {},
   "source": [
    "## 5. Line graphs and Bar graphs"
   ]
  },
  {
   "cell_type": "markdown",
   "metadata": {},
   "source": [
    "## 6. Importing data into graphs\n",
    "The `ColumnDataSource` can interpret three types of data objects:\n",
    "\n",
    "1. Python `dict` : The keys are names associated with the respective value sequences (lists, arrays, and so forth).\n",
    "2. Pandas `DataFrame` : The columns of the DataFrame become the reference names for the ColumnDataSource.\n",
    "3. Pandas `groupby` : The columns of the ColumnDataSource reference the columns as seen by calling groupby.describe().\n",
    "    \n",
    "Read more about `ColumnDataSource` and other source options [here](https://bokeh.pydata.org/en/latest/docs/user_guide/data.html)\n"
   ]
  },
  {
   "cell_type": "markdown",
   "metadata": {},
   "source": [
    "## 7. Transformations in Bokeh"
   ]
  },
  {
   "cell_type": "markdown",
   "metadata": {},
   "source": [
    "## 8. Interactions"
   ]
  },
  {
   "cell_type": "markdown",
   "metadata": {},
   "source": [
    "## 9. Linked interactions"
   ]
  },
  {
   "cell_type": "markdown",
   "metadata": {},
   "source": [
    "## 10. Exporting visualizations and Bokeh applications"
   ]
  }
 ],
 "metadata": {
  "kernelspec": {
   "display_name": "Python 3",
   "language": "python",
   "name": "python3"
  },
  "language_info": {
   "codemirror_mode": {
    "name": "ipython",
    "version": 3
   },
   "file_extension": ".py",
   "mimetype": "text/x-python",
   "name": "python",
   "nbconvert_exporter": "python",
   "pygments_lexer": "ipython3",
   "version": "3.7.7"
  }
 },
 "nbformat": 4,
 "nbformat_minor": 4
}
